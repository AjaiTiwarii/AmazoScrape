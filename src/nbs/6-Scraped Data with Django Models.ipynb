{
 "cells": [
  {
   "cell_type": "code",
   "execution_count": 1,
   "id": "39a9b978-7022-426e-941d-213853e0c4ba",
   "metadata": {},
   "outputs": [
    {
     "name": "stdout",
     "output_type": "stream",
     "text": [
      "C:\\Users\\ajaio\\OneDrive\\Desktop\\Projects\\Web-Scraper\\src\\nbs\n"
     ]
    }
   ],
   "source": [
    "!cd"
   ]
  },
  {
   "cell_type": "code",
   "execution_count": 2,
   "id": "14ae7443-17b8-4bb0-9676-ad015be5d69e",
   "metadata": {},
   "outputs": [],
   "source": [
    "from setup import init_django\n",
    "init_django(\"home\")"
   ]
  },
  {
   "cell_type": "code",
   "execution_count": 3,
   "id": "34f852bd-0976-4f8b-a149-03fce12d6554",
   "metadata": {},
   "outputs": [],
   "source": [
    "import helpers\n",
    "from products.models import ProductScrapeEvent, Product"
   ]
  },
  {
   "cell_type": "code",
   "execution_count": 10,
   "id": "a82fdf4d-1178-440e-8f2b-7123674b1bbd",
   "metadata": {},
   "outputs": [],
   "source": [
    "#url = \"https://www.amazon.com/PlayStation%C2%AE5-console-slim-PlayStation-5/dp/B0CL61F39H/ref=sr_1_1?crid=4DMVQAPDJ6FI&dib=eyJ2IjoiMSJ9.ZSHBPqiCaODiHqJYqUczUZUa-iq8WrjhvJq5mqIIWdWB4oSEyB_YxSuX_UvRrjbKZQ9VcvT3kFHGIgOtumnzdfcBlb0zpmkzTJJhnTbJXeZlMW9XGTmkau1_O1zGAj-ibiztEBkUFNZ_c_Tf1MQROUWLHe5og569_7WBfE81TgcpA7ufAOzpZ-0jJh8-0vdbHdfpAw8-xL2u_BSZ5BaXvu2qQWH-PouOfq2REE44j4c.qwaLQDps2-aPP8z-rH7xalnKps1KjigkVuqTkr_U3Cg&dib_tag=se&keywords=ps5&qid=1719051533&sprefix=%2Caps%2C299&sr=8-1&th=1\"\n",
    "#url = \"https://www.amazon.com/Grand-Theft-Auto-V-Xbox-X/dp/B09WC5D2SP/ref=pd_sim_d_sccl_2_6/147-1218197-8879668?pd_rd_w=JypEx&content-id=amzn1.sym.c2c53eac-9257-472a-b8a7-aec087a59a62&pf_rd_p=c2c53eac-9257-472a-b8a7-aec087a59a62&pf_rd_r=60V3Y8PPTACVTDEPPRMJ&pd_rd_wg=mLhXs&pd_rd_r=6ca06aca-371d-4e80-95fe-7b3e363b72f6&pd_rd_i=B09WC5D2SP&th=1\"\n",
    "url = \"https://www.amazon.com/Microsoft-Xbox-Gaming-Console-video-game/dp/B08H75RTZ8/ref=sr_1_1?crid=1NQBTD94VPZKE&dib=eyJ2IjoiMSJ9.X2VGsTLMvDzydcODcT25np132libWWzfCG3IwmO3zl6OI4g0vDvC7pFotiF0JYY5ahsUV9Aku2B\""
   ]
  },
  {
   "cell_type": "code",
   "execution_count": 11,
   "id": "ce7a53f0-7eef-4496-a04f-054942acc321",
   "metadata": {},
   "outputs": [
    {
     "name": "stdout",
     "output_type": "stream",
     "text": [
      "Connecting to Scraping Browser...\n",
      "Connected! Navigating to https://www.amazon.com/Microsoft-Xbox-Gaming-Console-video-game/dp/B08H75RTZ8/ref=sr_1_1?crid=1NQBTD94VPZKE&dib=eyJ2IjoiMSJ9.X2VGsTLMvDzydcODcT25np132libWWzfCG3IwmO3zl6OI4g0vDvC7pFotiF0JYY5ahsUV9Aku2B\n",
      "Waiting captcha to solve...\n",
      "Captcha solve status: not_detected\n",
      "Navigated! Scraping page content...\n"
     ]
    }
   ],
   "source": [
    "html = helpers.scrape(url=url)\n",
    "data = helpers.extract_amazon_product_data(html)"
   ]
  },
  {
   "cell_type": "code",
   "execution_count": 12,
   "id": "65eb2a3a-97e0-4850-84be-6a1a71e94f70",
   "metadata": {},
   "outputs": [
    {
     "data": {
      "text/plain": [
       "{'asin': '',\n",
       " 'title': 'Microsoft Xbox Series X 1TB Gaming Console [video game]',\n",
       " 'price_raw': '116.',\n",
       " 'price_text': '116.',\n",
       " 'price': 116.0,\n",
       " 'metadata': [],\n",
       " 'description': '',\n",
       " 'feature_bullets': ' \\n About this item    XBOX SERIES X: The fastest, most powerful Xbox ever. Explore rich new worlds with 12 teraflops of raw graphic processing power, DirectX ray tracing, a custom SSD, and 4K gaming.    FASTER LOAD TIMES: Make the most of every gaming minute with Quick Resume, lightning-fast load times, and gameplay of up to 120 FPS – all powered by Xbox Velocity Architecture.    IN THE BOX: Xbox Series X console, one Xbox Wireless Controller, an ultra high-speed HDMI cable, power cable, and 2 AA batteries.    SURROUND SOUND: Enhance gameplay with both full-spectrum visuals and immersive audio with Dolby Vision and Dolby Atmos    \\n',\n",
       " 'rating': {'average': 4.8, 'count': 27667}}"
      ]
     },
     "execution_count": 12,
     "metadata": {},
     "output_type": "execute_result"
    }
   ],
   "source": [
    "data"
   ]
  },
  {
   "cell_type": "code",
   "execution_count": 13,
   "id": "9ab314c0-5df5-42b9-8c2e-f60ba61c9de5",
   "metadata": {},
   "outputs": [],
   "source": [
    "ProductScrapeEvent.objects.create_scrape_event(data, url=url)"
   ]
  },
  {
   "cell_type": "code",
   "execution_count": 14,
   "id": "5b86decd-4ea5-4467-a7fa-48f7b15d21f2",
   "metadata": {},
   "outputs": [
    {
     "data": {
      "text/plain": [
       "<QuerySet [<ProductScrapeEvent: ProductScrapeEvent object (1)>, <ProductScrapeEvent: ProductScrapeEvent object (2)>, <ProductScrapeEvent: ProductScrapeEvent object (4)>]>"
      ]
     },
     "execution_count": 14,
     "metadata": {},
     "output_type": "execute_result"
    }
   ],
   "source": [
    "qs = ProductScrapeEvent.objects.all()\n",
    "qs"
   ]
  },
  {
   "cell_type": "code",
   "execution_count": 15,
   "id": "d94af0a9-df5b-4084-abc7-56ce3f242c7e",
   "metadata": {},
   "outputs": [
    {
     "data": {
      "text/plain": [
       "<QuerySet [<Product: Product object (1)>, <Product: Product object (4)>, <Product: Product object (5)>]>"
      ]
     },
     "execution_count": 15,
     "metadata": {},
     "output_type": "execute_result"
    }
   ],
   "source": [
    "product_qs = Product.objects.all()\n",
    "product_qs"
   ]
  },
  {
   "cell_type": "code",
   "execution_count": null,
   "id": "ff94cd58-05a1-4c33-a763-1e6d774205ef",
   "metadata": {},
   "outputs": [],
   "source": []
  }
 ],
 "metadata": {
  "kernelspec": {
   "display_name": "Python 3 (ipykernel)",
   "language": "python",
   "name": "python3"
  },
  "language_info": {
   "codemirror_mode": {
    "name": "ipython",
    "version": 3
   },
   "file_extension": ".py",
   "mimetype": "text/x-python",
   "name": "python",
   "nbconvert_exporter": "python",
   "pygments_lexer": "ipython3",
   "version": "3.11.9"
  }
 },
 "nbformat": 4,
 "nbformat_minor": 5
}
