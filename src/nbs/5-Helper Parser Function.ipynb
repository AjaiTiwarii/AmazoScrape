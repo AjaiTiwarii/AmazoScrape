{
 "cells": [
  {
   "cell_type": "code",
   "execution_count": 5,
   "id": "b76a4bd2-81f8-41fd-84a0-7c657ed49666",
   "metadata": {},
   "outputs": [
    {
     "name": "stdout",
     "output_type": "stream",
     "text": [
      "C:\\Users\\ajaio\\OneDrive\\Desktop\\Projects\\Web-Scraper\\src\\nbs\n"
     ]
    }
   ],
   "source": [
    "!cd"
   ]
  },
  {
   "cell_type": "code",
   "execution_count": 6,
   "id": "e1499b5f-025b-49c7-b0e3-2bea20d9c8a9",
   "metadata": {},
   "outputs": [],
   "source": [
    "from setup import init_django\n",
    "init_django(\"home\")"
   ]
  },
  {
   "cell_type": "code",
   "execution_count": 7,
   "id": "2d598996-945e-48af-bd77-fa4a54568500",
   "metadata": {},
   "outputs": [
    {
     "name": "stdout",
     "output_type": "stream",
     "text": [
      "C:\\Users\\ajaio\\OneDrive\\Desktop\\Projects\\Web-Scraper\\src\n"
     ]
    }
   ],
   "source": [
    "!cd"
   ]
  },
  {
   "cell_type": "code",
   "execution_count": 8,
   "id": "d1752803-9925-4570-90fb-a9313d654c1d",
   "metadata": {},
   "outputs": [],
   "source": [
    "import helpers"
   ]
  },
  {
   "cell_type": "code",
   "execution_count": 9,
   "id": "c37973de-a5ea-4b48-9b47-e12eea0549ea",
   "metadata": {},
   "outputs": [],
   "source": [
    "from bs4 import BeautifulSoup"
   ]
  },
  {
   "cell_type": "code",
   "execution_count": 10,
   "id": "f4598f2b-c2e2-44de-b576-f42a2a194e60",
   "metadata": {},
   "outputs": [],
   "source": [
    "url=\"https://www.amazon.com/Microsoft-Xbox-Gaming-Console-video-game/dp/B08H75RTZ8/ref=sr_1_1?crid=FNZZAB8YOSYC&dib=eyJ2IjoiMSJ9.X2VGsTLMvDzydcODcT25np132libWWzfCG3IwmO3zl4rRVlTBR401Y4KWWRSQ8LlWfgVWWSMftQ9iqp6NyzajXwL3qvmo_whBz3Xva1oz9YI2RiayqDgggOeHIurs_rqhMIqDdfohZSfDSVWsDRoXjQcLKBqdK6k3_Iy2yBmySDfaPDV3z91EkJnRjIg004eqWGUooNNHVsCGHMRbbFJ_s6hBlRdzwzzcTZozzcoHd8.cB44uGdTeUco2JpPwRFjsg0WUVx-_IKDRwHLCAvm2yE&dib_tag=se&keywords=xbox&qid=1718995105&sprefix=xbox+%2Caps%2C370&sr=8-1\""
   ]
  },
  {
   "cell_type": "code",
   "execution_count": 11,
   "id": "9566ee99-2469-4afc-ab42-ab0e9b05d1c7",
   "metadata": {},
   "outputs": [
    {
     "name": "stdout",
     "output_type": "stream",
     "text": [
      "Connecting to Scraping Browser...\n",
      "Connected! Navigating to https://www.amazon.com/Microsoft-Xbox-Gaming-Console-video-game/dp/B08H75RTZ8/ref=sr_1_1?crid=FNZZAB8YOSYC&dib=eyJ2IjoiMSJ9.X2VGsTLMvDzydcODcT25np132libWWzfCG3IwmO3zl4rRVlTBR401Y4KWWRSQ8LlWfgVWWSMftQ9iqp6NyzajXwL3qvmo_whBz3Xva1oz9YI2RiayqDgggOeHIurs_rqhMIqDdfohZSfDSVWsDRoXjQcLKBqdK6k3_Iy2yBmySDfaPDV3z91EkJnRjIg004eqWGUooNNHVsCGHMRbbFJ_s6hBlRdzwzzcTZozzcoHd8.cB44uGdTeUco2JpPwRFjsg0WUVx-_IKDRwHLCAvm2yE&dib_tag=se&keywords=xbox&qid=1718995105&sprefix=xbox+%2Caps%2C370&sr=8-1\n",
      "Waiting captcha to solve...\n",
      "Captcha solve status: solve_finished\n",
      "Navigated! Scraping page content...\n"
     ]
    }
   ],
   "source": [
    "html = helpers.scrape(url=url)\n",
    "data = helpers.extract_amazon_product_data(html)"
   ]
  },
  {
   "cell_type": "code",
   "execution_count": 12,
   "id": "dd09d71e-f736-4350-be7e-5a01063f6dd8",
   "metadata": {},
   "outputs": [
    {
     "data": {
      "text/plain": [
       "{'asin': 'B08H75RTZ8',\n",
       " 'title': 'Microsoft Xbox Series X 1TB Gaming Console [video game]',\n",
       " 'price_raw': '116.',\n",
       " 'price_text': '116.',\n",
       " 'price': 116.0,\n",
       " 'metadata': [{'ASIN': 'B08H75RTZ8'},\n",
       "  {'Release date': 'November 10, 2020'},\n",
       "  {'Customer Reviews': '4.8  4.8 out of 5 stars    \\n    27,621 ratings   \\n\\n\\n 4.8 out of 5 stars'},\n",
       "  {'Best Sellers Rank': '#159 in Video Games (See Top 100 in Video Games)  #1 in Xbox Series X & S Consoles  #3 in Xbox Consoles'},\n",
       "  {'Product Dimensions': '8.4 x 11.25 x 14.75 inches; 13.1 Pounds'},\n",
       "  {'Type of item': 'Video Game'},\n",
       "  {'Item model number': 'Internacional'},\n",
       "  {'Item Weight': '13.07 pounds'},\n",
       "  {'Department': 'Unisex'},\n",
       "  {'Manufacturer': 'Microsoft'},\n",
       "  {'Batteries': '2 A batteries required. (included)'},\n",
       "  {'Date First Available': 'September 22, 2020'}],\n",
       " 'description': ' \\n Xbox Series X, the fastest, most powerful Xbox ever. Explore rich new worlds with 12 teraflops of raw graphic processing power, DirectX ray tracing, a custom SSD, and 4K gaming. Make the most of every gaming minute with Quick Resume, lightning-fast load times, and gameplay of up to 120 FPS—all powered by Xbox Velocity Architecture. Enjoy thousands of games from four generations of Xbox, with hundreds of optimized titles that look and play better than ever. And when you add Xbox Game Pass Ultimate (membership sold separately), you get online multiplayer to play with friends and an instant library of 100+ high-quality games, including day one releases from Xbox Game Studios.*  ',\n",
       " 'feature_bullets': ' \\n About this item    XBOX SERIES X: The fastest, most powerful Xbox ever. Explore rich new worlds with 12 teraflops of raw graphic processing power, DirectX ray tracing, a custom SSD, and 4K gaming.    FASTER LOAD TIMES: Make the most of every gaming minute with Quick Resume, lightning-fast load times, and gameplay of up to 120 FPS – all powered by Xbox Velocity Architecture.    IN THE BOX: Xbox Series X console, one Xbox Wireless Controller, an ultra high-speed HDMI cable, power cable, and 2 AA batteries.    SURROUND SOUND: Enhance gameplay with both full-spectrum visuals and immersive audio with Dolby Vision and Dolby Atmos    \\n',\n",
       " 'rating': {'average': 4.8, 'count': 27621}}"
      ]
     },
     "execution_count": 12,
     "metadata": {},
     "output_type": "execute_result"
    }
   ],
   "source": [
    "data"
   ]
  },
  {
   "cell_type": "code",
   "execution_count": 13,
   "id": "4ec91814-09b2-499e-949b-6d92364a3cc7",
   "metadata": {},
   "outputs": [],
   "source": [
    "# html = helpers.scrape(url=url)\n",
    "rating_data = helpers.find_product_rating(html)"
   ]
  },
  {
   "cell_type": "code",
   "execution_count": 14,
   "id": "dca7f785-5aa5-4c7c-b71f-b620d728be1b",
   "metadata": {},
   "outputs": [
    {
     "data": {
      "text/plain": [
       "{'average': 4.8, 'count': 27621}"
      ]
     },
     "execution_count": 14,
     "metadata": {},
     "output_type": "execute_result"
    }
   ],
   "source": [
    "rating_data"
   ]
  },
  {
   "cell_type": "code",
   "execution_count": null,
   "id": "43f9c305-327d-4cce-a73a-b3884e7f5dc7",
   "metadata": {},
   "outputs": [],
   "source": []
  }
 ],
 "metadata": {
  "kernelspec": {
   "display_name": "Python 3 (ipykernel)",
   "language": "python",
   "name": "python3"
  },
  "language_info": {
   "codemirror_mode": {
    "name": "ipython",
    "version": 3
   },
   "file_extension": ".py",
   "mimetype": "text/x-python",
   "name": "python",
   "nbconvert_exporter": "python",
   "pygments_lexer": "ipython3",
   "version": "3.11.9"
  }
 },
 "nbformat": 4,
 "nbformat_minor": 5
}
