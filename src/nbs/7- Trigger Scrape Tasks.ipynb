{
 "cells": [
  {
   "cell_type": "code",
   "execution_count": 1,
   "id": "1fb5f6df-269b-492c-aa9f-815a56be8f9e",
   "metadata": {},
   "outputs": [
    {
     "name": "stdout",
     "output_type": "stream",
     "text": [
      "C:\\Users\\ajaio\\OneDrive\\Desktop\\Projects\\Web-Scraper\\src\\nbs\n"
     ]
    }
   ],
   "source": [
    "!cd"
   ]
  },
  {
   "cell_type": "code",
   "execution_count": 2,
   "id": "6f3b7868-8d11-4bac-b097-9230959c220e",
   "metadata": {},
   "outputs": [],
   "source": [
    "import setup\n",
    "setup.init_django(project_name='home')"
   ]
  },
  {
   "cell_type": "code",
   "execution_count": 3,
   "id": "50d23217-e128-47d1-a07d-8a53137791bb",
   "metadata": {},
   "outputs": [],
   "source": [
    "import helpers\n",
    "from products.tasks import scrape_product_url_task, scrape_products_task"
   ]
  },
  {
   "cell_type": "code",
   "execution_count": 7,
   "id": "e04e9f47-2c7e-463c-87f0-6cfa94f6a6f7",
   "metadata": {},
   "outputs": [],
   "source": [
    "# url = \"https://www.amazon.com/Microsoft-Xbox-Gaming-Console-video-game/dp/B08H75RTZ8/ref=sr_1_1?sr=8-1\"\n",
    "#url = \"https://www.amazon.com/Microsoft-All-Digital-Wireless-Controller-Resolution-Streaming/dp/B09ZJ9L6Z2/ref=sr_1_4?sr=8-4\"\n",
    "#url=\"https://www.amazon.com/Microsoft-Xbox-Gaming-Console-video-game/dp/B08H75RTZ8/ref=sr_1_1?crid=1M0C29VW21663&dib=eyJ2IjoiMSJ9.X2VGsTLMvDzydcODcT25np132libWWzfCG3IwmO3zl7HMN8jVV4VwTm0DzjL_PFpi-0c3ITlGEr\"\n",
    "url = \"https://www.amazon.com/Xbox-X-Diablo%C2%AE-IV-Bundle/dp/B0BWPC3W34/ref=sr_1_3_mod_primary_new?crid=3J6XQ92QBUYID&dib=eyJ2IjoiMSJ9.2m15VI4DvevUaKHQzhRIE1Bi02wmVnrO0gU6J3jRt45HwQYehIIw8CMq-Q0AtAeTRPLYw3jUe9nZo2mk4h8-aUps_7tekwSBz5f6k5_d10XM9axDH6XMFiPL-oXTZ5r-ZzTF8ZI2tR2ZQm2YHpn-iFMn6f5rGceDHxjr7G24-wO-v4wsTQhEeKMdg4EV5L8tHWWcd9w-dL_sD2fTR0rL4doWI1dFgyUY7nEjE9VAX3g.nq-ilZs8JO16aVVoe6FQ0LeCXAhfG6zroaq84NCjspY&dib_tag=se&keywords=xbox+series+x&qid=1719333952&sbo=RZvfv%2F%2FHxDF%2BO5021pAnSA%3D%3D&sprefix=xbo%2Caps%2C336&sr=8-3\""
   ]
  },
  {
   "cell_type": "code",
   "execution_count": 8,
   "id": "3a41cfa1-48ac-4a62-8f7d-a56f42747d72",
   "metadata": {},
   "outputs": [
    {
     "data": {
      "text/plain": [
       "<AsyncResult: a467359e-ad4e-4642-9c8e-7b13f80fb562>"
      ]
     },
     "execution_count": 8,
     "metadata": {},
     "output_type": "execute_result"
    }
   ],
   "source": [
    "scrape_product_url_task.delay(url)"
   ]
  },
  {
   "cell_type": "code",
   "execution_count": 9,
   "id": "cc315da9-fa47-48e6-b75f-8d09ff076d4b",
   "metadata": {},
   "outputs": [
    {
     "data": {
      "text/plain": [
       "<AsyncResult: 6ef3b029-15d2-4291-ad2d-3c7dcac3f87d>"
      ]
     },
     "execution_count": 9,
     "metadata": {},
     "output_type": "execute_result"
    }
   ],
   "source": [
    "scrape_products_task.delay()"
   ]
  },
  {
   "cell_type": "code",
   "execution_count": null,
   "id": "64d1f07d-cf36-4b27-a086-60982b7f77d9",
   "metadata": {},
   "outputs": [],
   "source": []
  }
 ],
 "metadata": {
  "kernelspec": {
   "display_name": "Python 3 (ipykernel)",
   "language": "python",
   "name": "python3"
  },
  "language_info": {
   "codemirror_mode": {
    "name": "ipython",
    "version": 3
   },
   "file_extension": ".py",
   "mimetype": "text/x-python",
   "name": "python",
   "nbconvert_exporter": "python",
   "pygments_lexer": "ipython3",
   "version": "3.11.9"
  }
 },
 "nbformat": 4,
 "nbformat_minor": 5
}
